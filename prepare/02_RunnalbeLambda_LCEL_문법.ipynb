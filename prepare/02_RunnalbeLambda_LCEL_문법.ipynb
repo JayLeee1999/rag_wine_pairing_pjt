{
 "cells": [
  {
   "cell_type": "markdown",
   "id": "67f6749f",
   "metadata": {},
   "source": [
    "# runnablelambda 객체 사용 방법"
   ]
  },
  {
   "cell_type": "code",
   "execution_count": null,
   "id": "04528734",
   "metadata": {},
   "outputs": [
    {
     "name": "stdout",
     "output_type": "stream",
     "text": [
      "20\n"
     ]
    }
   ],
   "source": [
    "from langchain_core.runnables import RunnableLambda\n",
    "\n",
    "# 함수 정의\n",
    "def func(x):\n",
    "    return x*2\n",
    "\n",
    "# 함수를 전달인자로 넣기\n",
    "runnable_1 = RunnableLambda(func)\n",
    "\n",
    "# runnablelambda를 통한 함수 실행\n",
    "print(runnable_1.invoke(10))   \n",
    "\n",
    "\n",
    "# invoke 호출하다, 부르다, 실행하다\n",
    "# runnable 실행 가능한 객체 / lambda 간단한 함수"
   ]
  },
  {
   "cell_type": "code",
   "execution_count": 5,
   "id": "c2f6bf08",
   "metadata": {},
   "outputs": [
    {
     "name": "stdout",
     "output_type": "stream",
     "text": [
      "20\n"
     ]
    }
   ],
   "source": [
    "# runnablelambda 객체 사용\n",
    "\n",
    "runnable_1 = RunnableLambda(lambda x:x*2)  # x 함수는 입력값 하나를 받고 그 값을 2배로 만들어서 돌려줄게~\n",
    "print(runnable_1.invoke(10))"
   ]
  },
  {
   "cell_type": "code",
   "execution_count": 7,
   "id": "556660df",
   "metadata": {},
   "outputs": [
    {
     "name": "stdout",
     "output_type": "stream",
     "text": [
      "[20, 40, 60]\n"
     ]
    }
   ],
   "source": [
    "# runnable batch\n",
    "runnable_3 = RunnableLambda(func)\n",
    "print(runnable_3.batch([10, 20, 30]))   # 10 20 30 을 한번에 넣어서 각각 함수에 적용"
   ]
  },
  {
   "cell_type": "code",
   "execution_count": 8,
   "id": "88ed9850",
   "metadata": {},
   "outputs": [
    {
     "name": "stdout",
     "output_type": "stream",
     "text": [
      "0\n",
      "2\n",
      "4\n",
      "6\n",
      "8\n",
      "10\n",
      "12\n",
      "14\n",
      "16\n",
      "18\n"
     ]
    }
   ],
   "source": [
    "def gen(x):\n",
    "    for y in x :\n",
    "        yield y * 2  # 값을 반환하지만 함수는 계속 유지 return은 반환하고 종료\n",
    "\n",
    "runnable_4 = RunnableLambda(gen)\n",
    "for chunk in runnable_4.stream(range(10)):\n",
    "    print(chunk)"
   ]
  }
 ],
 "metadata": {
  "kernelspec": {
   "display_name": "lc_env",
   "language": "python",
   "name": "python3"
  },
  "language_info": {
   "codemirror_mode": {
    "name": "ipython",
    "version": 3
   },
   "file_extension": ".py",
   "mimetype": "text/x-python",
   "name": "python",
   "nbconvert_exporter": "python",
   "pygments_lexer": "ipython3",
   "version": "3.11.13"
  }
 },
 "nbformat": 4,
 "nbformat_minor": 5
}
